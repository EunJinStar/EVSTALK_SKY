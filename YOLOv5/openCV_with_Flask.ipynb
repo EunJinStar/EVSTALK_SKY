{
 "cells": [
  {
   "cell_type": "code",
   "execution_count": null,
   "metadata": {},
   "outputs": [],
   "source": [
    "!pip install flask"
   ]
  },
  {
   "cell_type": "code",
   "execution_count": null,
   "metadata": {},
   "outputs": [],
   "source": [
    "!pip install -U flask-cors"
   ]
  },
  {
   "cell_type": "code",
   "execution_count": null,
   "metadata": {},
   "outputs": [],
   "source": [
    "!pip install opencv-python"
   ]
  },
  {
   "cell_type": "code",
   "execution_count": null,
   "metadata": {},
   "outputs": [],
   "source": [
    "!pip install pillow"
   ]
  },
  {
   "cell_type": "code",
   "execution_count": null,
   "metadata": {},
   "outputs": [],
   "source": []
  },
  {
   "cell_type": "code",
   "execution_count": 26,
   "metadata": {
    "scrolled": true
   },
   "outputs": [
    {
     "name": "stdout",
     "output_type": "stream",
     "text": [
      " * Serving Flask app '__main__'\n",
      " * Debug mode: off\n"
     ]
    },
    {
     "name": "stderr",
     "output_type": "stream",
     "text": [
      "WARNING: This is a development server. Do not use it in a production deployment. Use a production WSGI server instead.\n",
      " * Running on http://192.168.21.161:3022\n",
      "Press CTRL+C to quit\n",
      "192.168.21.161 - - [08/Dec/2022 14:07:48] \"GET / HTTP/1.1\" 200 -\n",
      "192.168.21.161 - - [08/Dec/2022 14:07:48] \"GET /favicon.ico HTTP/1.1\" 404 -\n"
     ]
    }
   ],
   "source": [
    "from PIL import Image # pip install pillow 설치\n",
    "from flask import Flask,request, redirect, url_for, render_template\n",
    "from flask_cors import CORS\n",
    "\n",
    "app = Flask(__name__)\n",
    "CORS(app)\n",
    "\n",
    "@app.route('/', methods=['GET'])\n",
    "def index():\n",
    "    return render_template(\"opencvJS.html\")\n",
    "    # return render_template(\"test.html\")\n",
    "    # return redirect(url_for(\"test\"))\n",
    "    # return \"Hello\"\n",
    "\n",
    "@app.route('/sendFrame',methods=[\"GET\",\"POST\"])\n",
    "def sendFrame():\n",
    "    byteData = request.get_data()\n",
    "    frame = Image.frombuffer('RGBA', (320,240), byteData)\n",
    "    frame = frame.rotate(180)\n",
    "    display(frame)\n",
    "        \n",
    "    return 'Hello World!'\n",
    "\n",
    "if __name__ == '__main__':\n",
    "    # app.run(host=\"127.0.0.1\", port=\"3006\")\n",
    "    app.run(host=\"192.168.21.161\", port=\"3022\")"
   ]
  }
 ],
 "metadata": {
  "kernelspec": {
   "display_name": "Python 3.11.0 64-bit",
   "language": "python",
   "name": "python3"
  },
  "language_info": {
   "codemirror_mode": {
    "name": "ipython",
    "version": 3
   },
   "file_extension": ".py",
   "mimetype": "text/x-python",
   "name": "python",
   "nbconvert_exporter": "python",
   "pygments_lexer": "ipython3",
   "version": "3.11.0 (main, Oct 24 2022, 18:26:48) [MSC v.1933 64 bit (AMD64)]"
  },
  "vscode": {
   "interpreter": {
    "hash": "cf78fb74aa48b94108f36080050fe69394809dccf5f3a8c3733378f542a5da8a"
   }
  }
 },
 "nbformat": 4,
 "nbformat_minor": 2
}
